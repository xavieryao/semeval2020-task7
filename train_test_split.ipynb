{
 "cells": [
  {
   "cell_type": "code",
   "execution_count": 15,
   "metadata": {},
   "outputs": [],
   "source": [
    "import csv\n",
    "import re\n",
    "import statistics\n",
    "import random"
   ]
  },
  {
   "cell_type": "code",
   "execution_count": 2,
   "metadata": {},
   "outputs": [],
   "source": [
    "# task-2 is a subset of task-1\n",
    "with open('data/task-1/train.csv') as f:\n",
    "    reader = csv.DictReader(f)\n",
    "    rows = list(reader)"
   ]
  },
  {
   "cell_type": "code",
   "execution_count": 5,
   "metadata": {},
   "outputs": [],
   "source": [
    "def get_vocabulary(rows):\n",
    "    vocab = set()\n",
    "    for row in rows:\n",
    "        sent = row['original'].replace('<', '').replace('/>', '')\n",
    "        words = sent.split()\n",
    "        vocab.update(words)\n",
    "        vocab.add(row['edit'])\n",
    "    return vocab"
   ]
  },
  {
   "cell_type": "code",
   "execution_count": 28,
   "metadata": {},
   "outputs": [],
   "source": [
    "def get_edited_text(row):\n",
    "    orig = row['original']\n",
    "    edited = re.sub(r\"<.+/>\", row['edit'], orig)\n",
    "    return edited"
   ]
  },
  {
   "cell_type": "code",
   "execution_count": 35,
   "metadata": {},
   "outputs": [],
   "source": [
    "def get_std(row):\n",
    "    grades = [int(x) for x in row['grades']]\n",
    "    return statistics.pstdev(grades)"
   ]
  },
  {
   "cell_type": "code",
   "execution_count": 43,
   "metadata": {},
   "outputs": [],
   "source": [
    "sorted_rows = sorted(rows, key=lambda x: (x['meanGrade'], -get_std(x)), reverse=True)"
   ]
  },
  {
   "cell_type": "code",
   "execution_count": 16,
   "metadata": {},
   "outputs": [],
   "source": [
    "def get_subset_glove(rows):\n",
    "    from tqdm import tqdm\n",
    "    vocab = get_vocabulary(rows)\n",
    "    with open('data/vocab.txt', 'w') as f:\n",
    "        for word in vocab:\n",
    "            f.write(word)\n",
    "            f.write('\\n')\n",
    "    with open('glove.840B.300d.txt') as f, open('glove.trimmed.300d.txt', 'w') as of:\n",
    "        for line in tqdm(f):\n",
    "            word = line.split(' ', 1)[0]\n",
    "            if word in vocab:\n",
    "                of.write(line)"
   ]
  },
  {
   "cell_type": "code",
   "execution_count": 28,
   "metadata": {},
   "outputs": [],
   "source": [
    "random.shuffle(rows)\n",
    "n = len(rows)\n",
    "# train-test split\n",
    "training_set = rows[:int(n*0.8)]\n",
    "test_set = rows[int(n*0.8):]\n",
    "\n",
    "# train-dev split\n",
    "dev_set = training_set[int(len(training_set)*0.8):]\n",
    "train_set = training_set[:int(len(training_set)*0.8)]\n",
    "\n",
    "for fn, set_rows in zip(['data/train.csv', 'data/test.csv', 'data/dev.csv'], [train_set, test_set, dev_set]):\n",
    "    with open(fn, 'w') as f:\n",
    "        writer = csv.DictWriter(f, fieldnames=set_rows[0].keys())\n",
    "        writer.writeheader()\n",
    "        writer.writerows(set_rows)\n"
   ]
  },
  {
   "cell_type": "code",
   "execution_count": null,
   "metadata": {},
   "outputs": [],
   "source": []
  }
 ],
 "metadata": {
  "kernelspec": {
   "display_name": "Python 3",
   "language": "python",
   "name": "python3"
  },
  "language_info": {
   "codemirror_mode": {
    "name": "ipython",
    "version": 3
   },
   "file_extension": ".py",
   "mimetype": "text/x-python",
   "name": "python",
   "nbconvert_exporter": "python",
   "pygments_lexer": "ipython3",
   "version": "3.7.4"
  }
 },
 "nbformat": 4,
 "nbformat_minor": 2
}
