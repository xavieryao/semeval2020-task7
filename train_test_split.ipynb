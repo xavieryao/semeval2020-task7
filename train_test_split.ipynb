{
 "cells": [
  {
   "cell_type": "code",
   "execution_count": 1,
   "metadata": {},
   "outputs": [],
   "source": [
    "import csv\n",
    "import re\n",
    "import statistics\n",
    "import random"
   ]
  },
  {
   "cell_type": "code",
   "execution_count": 2,
   "metadata": {},
   "outputs": [],
   "source": [
    "# task-2 is a subset of task-1\n",
    "with open('data/task-1/train.csv') as f:\n",
    "    reader = csv.DictReader(f)\n",
    "    rows = list(reader)\n",
    "with open('data/task-1/dev.csv') as f:\n",
    "    reader = csv.DictReader(f)\n",
    "    dev_rows = list(reader)"
   ]
  },
  {
   "cell_type": "code",
   "execution_count": 33,
   "metadata": {},
   "outputs": [],
   "source": [
    "def get_vocabulary(rows):\n",
    "    vocab = set()\n",
    "    for row in rows:\n",
    "        sent = row['original'].replace('<', '').replace('/>', '')\n",
    "        words = sent.split()\n",
    "        vocab.update(words)\n",
    "        vocab.add(row['edit'])\n",
    "    return vocab"
   ]
  },
  {
   "cell_type": "code",
   "execution_count": 39,
   "metadata": {},
   "outputs": [],
   "source": [
    "voc2 = get_vocabulary(dev_rows)"
   ]
  },
  {
   "cell_type": "code",
   "execution_count": 28,
   "metadata": {},
   "outputs": [],
   "source": [
    "def get_edited_text(row):\n",
    "    orig = row['original']\n",
    "    edited = re.sub(r\"<.+/>\", row['edit'], orig)\n",
    "    return edited"
   ]
  },
  {
   "cell_type": "code",
   "execution_count": 3,
   "metadata": {},
   "outputs": [],
   "source": [
    "def get_std(row):\n",
    "    grades = [int(x) for x in row['grades']]\n",
    "    return statistics.pstdev(grades)"
   ]
  },
  {
   "cell_type": "code",
   "execution_count": 4,
   "metadata": {},
   "outputs": [],
   "source": [
    "sorted_rows = sorted(rows, key=lambda x: (x['meanGrade'], -get_std(x)), reverse=True)"
   ]
  },
  {
   "cell_type": "code",
   "execution_count": 35,
   "metadata": {},
   "outputs": [],
   "source": [
    "def get_subset_glove(rows):\n",
    "    from tqdm import tqdm\n",
    "    vocab = get_vocabulary(rows)\n",
    "    with open('data/vocab.txt', 'w') as f:\n",
    "        for word in vocab:\n",
    "            f.write(word)\n",
    "            f.write('\\n')\n",
    "    with open('glove.840B.300d.txt') as f, open('glove.trimmed.300d.txt', 'w') as of:\n",
    "        for line in tqdm(f):\n",
    "            word = line.split(' ', 1)[0]\n",
    "            if word in vocab:\n",
    "                of.write(line)"
   ]
  },
  {
   "cell_type": "code",
   "execution_count": 41,
   "metadata": {},
   "outputs": [
    {
     "name": "stderr",
     "output_type": "stream",
     "text": [
      "2196017it [00:13, 162644.94it/s]\n"
     ]
    }
   ],
   "source": [
    "get_subset_glove(rows + dev_rows)"
   ]
  },
  {
   "cell_type": "code",
   "execution_count": 31,
   "metadata": {},
   "outputs": [],
   "source": [
    "random.shuffle(rows)\n",
    "n = len(rows)\n",
    "# train-test split\n",
    "training_set = rows[:int(n*0.8)]\n",
    "dev_set = rows[int(n*0.8):]\n",
    "\n",
    "for fn, set_rows in zip(['data/training.csv', 'data/dev.csv'], [training_set, dev_set]):\n",
    "    with open(fn, 'w') as f:\n",
    "        writer = csv.DictWriter(f, fieldnames=set_rows[0].keys())\n",
    "        writer.writeheader()\n",
    "        writer.writerows(set_rows)\n"
   ]
  },
  {
   "cell_type": "code",
   "execution_count": 42,
   "metadata": {},
   "outputs": [],
   "source": [
    "def build_emb_index():\n",
    "    import torch\n",
    "    glove_embeddings = {}\n",
    "    with open('data/glove.trimmed.300d.txt') as f:\n",
    "        for line in f:\n",
    "            parts = line.split()\n",
    "            word = parts[0]\n",
    "            vec = torch.empty((300,), dtype=torch.float, requires_grad=False)\n",
    "            for i in range(300):\n",
    "                vec[i] = float(parts[i+1])\n",
    "            glove_embeddings[word] = vec\n",
    "    import pickle\n",
    "    with open('data/glove.pkl', 'wb') as f:\n",
    "        pickle.dump(glove_embeddings, f)"
   ]
  },
  {
   "cell_type": "code",
   "execution_count": 43,
   "metadata": {},
   "outputs": [],
   "source": [
    "build_emb_index()"
   ]
  },
  {
   "cell_type": "code",
   "execution_count": 6,
   "metadata": {},
   "outputs": [
    {
     "data": {
      "text/plain": [
       "[OrderedDict([('id', '3404'),\n",
       "              ('original',\n",
       "               \"President Trump 's first year <anniversary/> report card , with grades from A + to F\"),\n",
       "              ('edit', 'Kindergarten'),\n",
       "              ('grades', '33333'),\n",
       "              ('meanGrade', '3.0')]),\n",
       " OrderedDict([('id', '1229'),\n",
       "              ('original',\n",
       "               \"Recent Scandals Highlight Trump 's Chaotic <Management/> Style\"),\n",
       "              ('edit', 'Fashion'),\n",
       "              ('grades', '33333'),\n",
       "              ('meanGrade', '3.0')]),\n",
       " OrderedDict([('id', '1664'),\n",
       "              ('original',\n",
       "               'What if <Sociologists/> Had as Much Influence as Economists ?'),\n",
       "              ('edit', 'donkeys'),\n",
       "              ('grades', '33332'),\n",
       "              ('meanGrade', '2.8')]),\n",
       " OrderedDict([('id', '9933'),\n",
       "              ('original',\n",
       "               'Mitch McConnell thinks tax reform will take longer than Trump <claimed/> '),\n",
       "              ('edit', 'Haircut'),\n",
       "              ('grades', '33332'),\n",
       "              ('meanGrade', '2.8')]),\n",
       " OrderedDict([('id', '7594'),\n",
       "              ('original',\n",
       "               \"Essential Politics : California 's hottest congressional <races/> , ranked\"),\n",
       "              ('edit', 'mistresses'),\n",
       "              ('grades', '33332'),\n",
       "              ('meanGrade', '2.8')]),\n",
       " OrderedDict([('id', '772'),\n",
       "              ('original',\n",
       "               \"Recent Scandals Highlight Trump 's Chaotic <Management/> Style\"),\n",
       "              ('edit', 'hair'),\n",
       "              ('grades', '33332'),\n",
       "              ('meanGrade', '2.8')]),\n",
       " OrderedDict([('id', '15090'),\n",
       "              ('original',\n",
       "               'The last president to <fire/> an FBI director ? Bill Clinton'),\n",
       "              ('edit', 'kiss'),\n",
       "              ('grades', '33332'),\n",
       "              ('meanGrade', '2.8')]),\n",
       " OrderedDict([('id', '7255'),\n",
       "              ('original',\n",
       "               'How an FBI raid fed a rumor that Orrin Hatch was about to become <president/> '),\n",
       "              ('edit', 'pregnant'),\n",
       "              ('grades', '33332'),\n",
       "              ('meanGrade', '2.8')]),\n",
       " OrderedDict([('id', '9703'),\n",
       "              ('original',\n",
       "               \"Hillary Clinton Staffers Considered Campaign Slogan ' Because It 's Her <Turn/> '\"),\n",
       "              ('edit', 'Fault'),\n",
       "              ('grades', '33332'),\n",
       "              ('meanGrade', '2.8')]),\n",
       " OrderedDict([('id', '590'),\n",
       "              ('original', 'Kasich : Trump <tweets/> ‘ unacceptable ’'),\n",
       "              ('edit', 'hair'),\n",
       "              ('grades', '33332'),\n",
       "              ('meanGrade', '2.8')])]"
      ]
     },
     "execution_count": 6,
     "metadata": {},
     "output_type": "execute_result"
    }
   ],
   "source": [
    "sorted_rows[:10]"
   ]
  },
  {
   "cell_type": "code",
   "execution_count": null,
   "metadata": {},
   "outputs": [],
   "source": []
  }
 ],
 "metadata": {
  "kernelspec": {
   "display_name": "Python 3",
   "language": "python",
   "name": "python3"
  },
  "language_info": {
   "codemirror_mode": {
    "name": "ipython",
    "version": 3
   },
   "file_extension": ".py",
   "mimetype": "text/x-python",
   "name": "python",
   "nbconvert_exporter": "python",
   "pygments_lexer": "ipython3",
   "version": "3.7.4"
  }
 },
 "nbformat": 4,
 "nbformat_minor": 2
}
